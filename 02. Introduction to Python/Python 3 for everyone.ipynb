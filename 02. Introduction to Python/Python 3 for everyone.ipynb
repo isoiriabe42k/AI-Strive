{
 "cells": [
  {
   "cell_type": "code",
   "execution_count": 1,
   "id": "acfcd473",
   "metadata": {},
   "outputs": [
    {
     "data": {
      "text/plain": [
       "6"
      ]
     },
     "execution_count": 1,
     "metadata": {},
     "output_type": "execute_result"
    }
   ],
   "source": [
    "fruit = 'banana'\n",
    "len(fruit)"
   ]
  },
  {
   "cell_type": "code",
   "execution_count": 10,
   "id": "c7edcc4c",
   "metadata": {},
   "outputs": [
    {
     "name": "stdout",
     "output_type": "stream",
     "text": [
      "a\n",
      "n\n"
     ]
    }
   ],
   "source": [
    "length = len(fruit)\n",
    "last = fruit[length -1]\n",
    "last\n",
    "print(last + '\\n' + fruit[-4])"
   ]
  },
  {
   "cell_type": "code",
   "execution_count": null,
   "id": "d7963fef",
   "metadata": {},
   "outputs": [],
   "source": [
    "index = 0\n",
    "while index < len(fruit):\n",
    "    letter = fruit[index]\n",
    "    print(letter)\n",
    "    index = index + 1"
   ]
  },
  {
   "cell_type": "code",
   "execution_count": null,
   "id": "2984f9d5",
   "metadata": {},
   "outputs": [],
   "source": [
    "while char in fruit:\n",
    "    print(char)"
   ]
  },
  {
   "cell_type": "code",
   "execution_count": null,
   "id": "125aa20a",
   "metadata": {},
   "outputs": [],
   "source": [
    "x = 3\n",
    "w = fruit[3]\n",
    "print(w)"
   ]
  }
 ],
 "metadata": {
  "kernelspec": {
   "display_name": "Python 3",
   "language": "python",
   "name": "python3"
  },
  "language_info": {
   "codemirror_mode": {
    "name": "ipython",
    "version": 3
   },
   "file_extension": ".py",
   "mimetype": "text/x-python",
   "name": "python",
   "nbconvert_exporter": "python",
   "pygments_lexer": "ipython3",
   "version": "3.8.8"
  }
 },
 "nbformat": 4,
 "nbformat_minor": 5
}
